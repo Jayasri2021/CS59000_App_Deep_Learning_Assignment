{
  "nbformat": 4,
  "nbformat_minor": 0,
  "metadata": {
    "colab": {
      "provenance": [],
      "gpuType": "T4"
    },
    "kernelspec": {
      "name": "python3",
      "display_name": "Python 3"
    },
    "language_info": {
      "name": "python"
    },
    "accelerator": "GPU"
  },
  "cells": [
    {
      "cell_type": "markdown",
      "source": [
        "**Classifying newswires: a multiclass classification example**"
      ],
      "metadata": {
        "id": "_sbCbx9-WWj3"
      }
    },
    {
      "cell_type": "markdown",
      "source": [
        "#Load the dataset"
      ],
      "metadata": {
        "id": "NrJEmF6_Wd8H"
      }
    },
    {
      "cell_type": "code",
      "execution_count": 1,
      "metadata": {
        "id": "8ZvoBbcAWQuV",
        "colab": {
          "base_uri": "https://localhost:8080/"
        },
        "outputId": "3e35d349-61a6-4bb7-bddd-d05149522705"
      },
      "outputs": [
        {
          "output_type": "stream",
          "name": "stdout",
          "text": [
            "Downloading data from https://storage.googleapis.com/tensorflow/tf-keras-datasets/reuters.npz\n",
            "\u001b[1m2110848/2110848\u001b[0m \u001b[32m━━━━━━━━━━━━━━━━━━━━\u001b[0m\u001b[37m\u001b[0m \u001b[1m1s\u001b[0m 1us/step\n"
          ]
        }
      ],
      "source": [
        "from tensorflow.keras.datasets import reuters\n",
        "\n",
        "(train_data, train_labels), (test_data, test_labels) = reuters.load_data(\n",
        "    num_words=10000)"
      ]
    },
    {
      "cell_type": "code",
      "source": [
        "train_data.shape, test_data.shape"
      ],
      "metadata": {
        "id": "8jHtfpqeYOom",
        "colab": {
          "base_uri": "https://localhost:8080/"
        },
        "outputId": "4b95180f-37e9-41e5-e7ac-0696ba15eff0"
      },
      "execution_count": 2,
      "outputs": [
        {
          "output_type": "execute_result",
          "data": {
            "text/plain": [
              "((8982,), (2246,))"
            ]
          },
          "metadata": {},
          "execution_count": 2
        }
      ]
    },
    {
      "cell_type": "code",
      "source": [
        "print(train_data[10])"
      ],
      "metadata": {
        "id": "MZLy1JuAYWxO",
        "colab": {
          "base_uri": "https://localhost:8080/"
        },
        "outputId": "ff8048e2-eb85-45ef-fba1-deebc1cfa0af"
      },
      "execution_count": 3,
      "outputs": [
        {
          "output_type": "stream",
          "name": "stdout",
          "text": [
            "[1, 245, 273, 207, 156, 53, 74, 160, 26, 14, 46, 296, 26, 39, 74, 2979, 3554, 14, 46, 4689, 4329, 86, 61, 3499, 4795, 14, 61, 451, 4329, 17, 12]\n"
          ]
        }
      ]
    },
    {
      "cell_type": "code",
      "source": [
        "# Decode newswires back to text\n",
        "word_index = reuters.get_word_index()\n",
        "reverse_word_index = dict(\n",
        "    [(value, key) for (key, value) in word_index.items()]\n",
        ")\n",
        "decode_review = \" \".join(\n",
        "    [reverse_word_index.get(i - 3, \"?\") for i in train_data[0]]\n",
        ")\n",
        "print(decode_review)"
      ],
      "metadata": {
        "id": "cLNwYfKyYtCe",
        "colab": {
          "base_uri": "https://localhost:8080/"
        },
        "outputId": "a99a9d05-15fd-4f4c-f946-6a91114e96ca"
      },
      "execution_count": 4,
      "outputs": [
        {
          "output_type": "stream",
          "name": "stdout",
          "text": [
            "Downloading data from https://storage.googleapis.com/tensorflow/tf-keras-datasets/reuters_word_index.json\n",
            "\u001b[1m550378/550378\u001b[0m \u001b[32m━━━━━━━━━━━━━━━━━━━━\u001b[0m\u001b[37m\u001b[0m \u001b[1m1s\u001b[0m 2us/step\n",
            "? ? ? said as a result of its december acquisition of space co it expects earnings per share in 1987 of 1 15 to 1 30 dlrs per share up from 70 cts in 1986 the company said pretax net should rise to nine to 10 mln dlrs from six mln dlrs in 1986 and rental operation revenues to 19 to 22 mln dlrs from 12 5 mln dlrs it said cash flow per share this year should be 2 50 to three dlrs reuter 3\n"
          ]
        }
      ]
    },
    {
      "cell_type": "markdown",
      "source": [
        "Note: \"0\" - Padding. \"1\" - Start of sequence. \"2\" - Unknown."
      ],
      "metadata": {
        "id": "wie60x0KZ-kw"
      }
    },
    {
      "cell_type": "markdown",
      "source": [
        "#Prepare the data"
      ],
      "metadata": {
        "id": "ylWcY0g-Wh0y"
      }
    },
    {
      "cell_type": "markdown",
      "source": [
        "**Encoding the integer sequence via multi-hot encoding**"
      ],
      "metadata": {
        "id": "JcR9kDi3abP8"
      }
    },
    {
      "cell_type": "code",
      "source": [
        "# Prepare inputs by using multi-hot encoding\n",
        "\n",
        "import numpy as np\n",
        "\n",
        "# TODO: implement the following function for multi-hot encoding for inputs\n",
        "def vectorize_sequences(sequences, dimension=10000):\n",
        "  result = np.zeros((len(sequences), dimension))\n",
        "  for i, sequence in enumerate(sequences):\n",
        "    result[i, sequence] = 1.0\n",
        "  return result\n",
        "  # TODO\n",
        "\n",
        "x_train = vectorize_sequences(train_data)\n",
        "x_test = vectorize_sequences(test_data)\n",
        "\n",
        "x_train[0]"
      ],
      "metadata": {
        "id": "Squf6oCjWkDe",
        "colab": {
          "base_uri": "https://localhost:8080/"
        },
        "outputId": "b297b321-dd12-4cf6-deb1-b2c79d091f0b"
      },
      "execution_count": 5,
      "outputs": [
        {
          "output_type": "execute_result",
          "data": {
            "text/plain": [
              "array([0., 1., 1., ..., 0., 0., 0.])"
            ]
          },
          "metadata": {},
          "execution_count": 5
        }
      ]
    },
    {
      "cell_type": "code",
      "source": [
        "# Prepare outputs by using one-hot encoding\n",
        "\n",
        "# TODO: implement one-hot encoding for outputs\n",
        "def to_one_hot(labels, dimension=46):\n",
        "  result = np.zeros((len(labels), dimension))\n",
        "  for i, label in enumerate(labels):\n",
        "    result[i, label] = 1.0\n",
        "  return result\n",
        "  # TODO\n",
        "\n",
        "y_train = to_one_hot(train_labels)\n",
        "y_test = to_one_hot(test_labels)"
      ],
      "metadata": {
        "id": "FciW6SudcMKh"
      },
      "execution_count": 6,
      "outputs": []
    },
    {
      "cell_type": "markdown",
      "source": [
        "Note: it can also use the built-in function in Keras:\n",
        "```\n",
        "from tensorflow.keras.utils import to_categorical\n",
        "y_train = to_categorical(train_labels)\n",
        "y_test = to_categorical(test_labels)\n",
        "```\n",
        "\n"
      ],
      "metadata": {
        "id": "y3INS6GRukmW"
      }
    },
    {
      "cell_type": "markdown",
      "source": [
        "#Build the model"
      ],
      "metadata": {
        "id": "U8ucaY7vWkeX"
      }
    },
    {
      "cell_type": "markdown",
      "source": [
        "**Define the model**"
      ],
      "metadata": {
        "id": "IVWumCEdcsSw"
      }
    },
    {
      "cell_type": "code",
      "source": [
        "from tensorflow import keras\n",
        "from tensorflow.keras import layers\n",
        "\n",
        "# TODO: build DL NN model\n",
        "model = keras.Sequential(\n",
        "    [\n",
        "        # TODO\n",
        "        layers.Dense(64, activation=\"relu\", input_shape=(10000,)),\n",
        "        layers.Dense(64, activation=\"relu\"),\n",
        "        layers.Dense(46, activation=\"softmax\")\n",
        "    ]\n",
        ")"
      ],
      "metadata": {
        "id": "EBDYkKXAWn9P"
      },
      "execution_count": 9,
      "outputs": []
    },
    {
      "cell_type": "markdown",
      "source": [
        "**Compile the model**"
      ],
      "metadata": {
        "id": "fvjunMlKcwmH"
      }
    },
    {
      "cell_type": "code",
      "source": [
        "# TODO: fill in the information for compiling the model\n",
        "model.compile(\n",
        "    optimizer=\"rmsprop\",\n",
        "    loss=\"categorical_crossentropy\",\n",
        "    metrics=[\"accuracy\"]\n",
        "  # TODO\n",
        ")"
      ],
      "metadata": {
        "id": "MmzIsmVMc2mj"
      },
      "execution_count": 10,
      "outputs": []
    },
    {
      "cell_type": "markdown",
      "source": [
        "#Validate the model"
      ],
      "metadata": {
        "id": "3xuORvz1WoNi"
      }
    },
    {
      "cell_type": "markdown",
      "source": [
        "**Fit the model with a validation set**"
      ],
      "metadata": {
        "id": "_ECF9KHDdoUH"
      }
    },
    {
      "cell_type": "code",
      "source": [
        "x_val = x_train[:1000]\n",
        "partial_x_train = x_train[1000:]\n",
        "y_val = y_train[:1000]\n",
        "partial_y_train = y_train[1000:]"
      ],
      "metadata": {
        "id": "0qYqirZ4Wzh_"
      },
      "execution_count": 11,
      "outputs": []
    },
    {
      "cell_type": "code",
      "source": [
        "# TODO: train the model\n",
        "history = model.fit(\n",
        "    partial_x_train,\n",
        "    partial_y_train,\n",
        "    epochs=20,\n",
        "    batch_size=512,\n",
        "    validation_data=(x_val, y_val)\n",
        "    # TODO\n",
        ")"
      ],
      "metadata": {
        "id": "JZjBU3qPe9gn",
        "colab": {
          "base_uri": "https://localhost:8080/"
        },
        "outputId": "e0f5f76f-814a-4120-81be-d06abc22c9f9"
      },
      "execution_count": 12,
      "outputs": [
        {
          "output_type": "stream",
          "name": "stdout",
          "text": [
            "Epoch 1/20\n",
            "\u001b[1m16/16\u001b[0m \u001b[32m━━━━━━━━━━━━━━━━━━━━\u001b[0m\u001b[37m\u001b[0m \u001b[1m4s\u001b[0m 127ms/step - accuracy: 0.3352 - loss: 3.2733 - val_accuracy: 0.6190 - val_loss: 1.8807\n",
            "Epoch 2/20\n",
            "\u001b[1m16/16\u001b[0m \u001b[32m━━━━━━━━━━━━━━━━━━━━\u001b[0m\u001b[37m\u001b[0m \u001b[1m0s\u001b[0m 18ms/step - accuracy: 0.6675 - loss: 1.6703 - val_accuracy: 0.6970 - val_loss: 1.3855\n",
            "Epoch 3/20\n",
            "\u001b[1m16/16\u001b[0m \u001b[32m━━━━━━━━━━━━━━━━━━━━\u001b[0m\u001b[37m\u001b[0m \u001b[1m0s\u001b[0m 16ms/step - accuracy: 0.7326 - loss: 1.2223 - val_accuracy: 0.7470 - val_loss: 1.1868\n",
            "Epoch 4/20\n",
            "\u001b[1m16/16\u001b[0m \u001b[32m━━━━━━━━━━━━━━━━━━━━\u001b[0m\u001b[37m\u001b[0m \u001b[1m0s\u001b[0m 16ms/step - accuracy: 0.7916 - loss: 1.0023 - val_accuracy: 0.7690 - val_loss: 1.0734\n",
            "Epoch 5/20\n",
            "\u001b[1m16/16\u001b[0m \u001b[32m━━━━━━━━━━━━━━━━━━━━\u001b[0m\u001b[37m\u001b[0m \u001b[1m0s\u001b[0m 17ms/step - accuracy: 0.8296 - loss: 0.7923 - val_accuracy: 0.7880 - val_loss: 0.9938\n",
            "Epoch 6/20\n",
            "\u001b[1m16/16\u001b[0m \u001b[32m━━━━━━━━━━━━━━━━━━━━\u001b[0m\u001b[37m\u001b[0m \u001b[1m0s\u001b[0m 17ms/step - accuracy: 0.8562 - loss: 0.6737 - val_accuracy: 0.7860 - val_loss: 0.9871\n",
            "Epoch 7/20\n",
            "\u001b[1m16/16\u001b[0m \u001b[32m━━━━━━━━━━━━━━━━━━━━\u001b[0m\u001b[37m\u001b[0m \u001b[1m0s\u001b[0m 17ms/step - accuracy: 0.8780 - loss: 0.5665 - val_accuracy: 0.8100 - val_loss: 0.9130\n",
            "Epoch 8/20\n",
            "\u001b[1m16/16\u001b[0m \u001b[32m━━━━━━━━━━━━━━━━━━━━\u001b[0m\u001b[37m\u001b[0m \u001b[1m0s\u001b[0m 20ms/step - accuracy: 0.9028 - loss: 0.4743 - val_accuracy: 0.8000 - val_loss: 0.9104\n",
            "Epoch 9/20\n",
            "\u001b[1m16/16\u001b[0m \u001b[32m━━━━━━━━━━━━━━━━━━━━\u001b[0m\u001b[37m\u001b[0m \u001b[1m0s\u001b[0m 17ms/step - accuracy: 0.9117 - loss: 0.4002 - val_accuracy: 0.8020 - val_loss: 0.8945\n",
            "Epoch 10/20\n",
            "\u001b[1m16/16\u001b[0m \u001b[32m━━━━━━━━━━━━━━━━━━━━\u001b[0m\u001b[37m\u001b[0m \u001b[1m0s\u001b[0m 17ms/step - accuracy: 0.9310 - loss: 0.3291 - val_accuracy: 0.8100 - val_loss: 0.8779\n",
            "Epoch 11/20\n",
            "\u001b[1m16/16\u001b[0m \u001b[32m━━━━━━━━━━━━━━━━━━━━\u001b[0m\u001b[37m\u001b[0m \u001b[1m0s\u001b[0m 18ms/step - accuracy: 0.9395 - loss: 0.2937 - val_accuracy: 0.8140 - val_loss: 0.8707\n",
            "Epoch 12/20\n",
            "\u001b[1m16/16\u001b[0m \u001b[32m━━━━━━━━━━━━━━━━━━━━\u001b[0m\u001b[37m\u001b[0m \u001b[1m1s\u001b[0m 17ms/step - accuracy: 0.9470 - loss: 0.2470 - val_accuracy: 0.8190 - val_loss: 0.8688\n",
            "Epoch 13/20\n",
            "\u001b[1m16/16\u001b[0m \u001b[32m━━━━━━━━━━━━━━━━━━━━\u001b[0m\u001b[37m\u001b[0m \u001b[1m0s\u001b[0m 17ms/step - accuracy: 0.9468 - loss: 0.2218 - val_accuracy: 0.8140 - val_loss: 0.8931\n",
            "Epoch 14/20\n",
            "\u001b[1m16/16\u001b[0m \u001b[32m━━━━━━━━━━━━━━━━━━━━\u001b[0m\u001b[37m\u001b[0m \u001b[1m0s\u001b[0m 17ms/step - accuracy: 0.9462 - loss: 0.2137 - val_accuracy: 0.8180 - val_loss: 0.8986\n",
            "Epoch 15/20\n",
            "\u001b[1m16/16\u001b[0m \u001b[32m━━━━━━━━━━━━━━━━━━━━\u001b[0m\u001b[37m\u001b[0m \u001b[1m0s\u001b[0m 21ms/step - accuracy: 0.9583 - loss: 0.1751 - val_accuracy: 0.8040 - val_loss: 0.9100\n",
            "Epoch 16/20\n",
            "\u001b[1m16/16\u001b[0m \u001b[32m━━━━━━━━━━━━━━━━━━━━\u001b[0m\u001b[37m\u001b[0m \u001b[1m0s\u001b[0m 21ms/step - accuracy: 0.9532 - loss: 0.1739 - val_accuracy: 0.8130 - val_loss: 0.9112\n",
            "Epoch 17/20\n",
            "\u001b[1m16/16\u001b[0m \u001b[32m━━━━━━━━━━━━━━━━━━━━\u001b[0m\u001b[37m\u001b[0m \u001b[1m1s\u001b[0m 24ms/step - accuracy: 0.9571 - loss: 0.1574 - val_accuracy: 0.8170 - val_loss: 0.9125\n",
            "Epoch 18/20\n",
            "\u001b[1m16/16\u001b[0m \u001b[32m━━━━━━━━━━━━━━━━━━━━\u001b[0m\u001b[37m\u001b[0m \u001b[1m1s\u001b[0m 24ms/step - accuracy: 0.9608 - loss: 0.1327 - val_accuracy: 0.8140 - val_loss: 0.9268\n",
            "Epoch 19/20\n",
            "\u001b[1m16/16\u001b[0m \u001b[32m━━━━━━━━━━━━━━━━━━━━\u001b[0m\u001b[37m\u001b[0m \u001b[1m1s\u001b[0m 16ms/step - accuracy: 0.9571 - loss: 0.1381 - val_accuracy: 0.8010 - val_loss: 0.9376\n",
            "Epoch 20/20\n",
            "\u001b[1m16/16\u001b[0m \u001b[32m━━━━━━━━━━━━━━━━━━━━\u001b[0m\u001b[37m\u001b[0m \u001b[1m0s\u001b[0m 16ms/step - accuracy: 0.9637 - loss: 0.1191 - val_accuracy: 0.8130 - val_loss: 0.9651\n"
          ]
        }
      ]
    },
    {
      "cell_type": "markdown",
      "source": [
        "**Plot the training and validation loss**"
      ],
      "metadata": {
        "id": "SJnGNYD8dwun"
      }
    },
    {
      "cell_type": "code",
      "source": [
        "import matplotlib.pyplot as plt\n",
        "\n",
        "def plot_training_validation_results(training_results, validation_results,\n",
        "                                     title, ylabel):\n",
        "  print(\"training: \", training_results)\n",
        "  print(\"validation: \", validation_results)\n",
        "  plt.clf()\n",
        "  epochs = range(1, len(training_results)+1)\n",
        "  plt.plot(epochs, training_results, \"bo\", label=\"Training\")\n",
        "  plt.plot(epochs, validation_results, \"b\", label=\"Validation\")\n",
        "  plt.xlabel(\"Epochs\")\n",
        "  plt.ylabel(ylabel)\n",
        "  plt.legend()\n",
        "  plt.show()"
      ],
      "metadata": {
        "id": "o5_yJexEd5zn"
      },
      "execution_count": 13,
      "outputs": []
    },
    {
      "cell_type": "code",
      "source": [
        "history_dict = history.history\n",
        "training_loss_values = history_dict[\"loss\"]\n",
        "validation_loss_values = history_dict[\"val_loss\"]\n",
        "plot_training_validation_results(training_loss_values, validation_loss_values,\n",
        "                                 \"Training and validation loss\", \"Loss\")"
      ],
      "metadata": {
        "id": "F0yJp_2ZgljA",
        "colab": {
          "base_uri": "https://localhost:8080/",
          "height": 504
        },
        "outputId": "299b9b68-ff2c-46e3-d78e-774f92867450"
      },
      "execution_count": 14,
      "outputs": [
        {
          "output_type": "stream",
          "name": "stdout",
          "text": [
            "training:  [2.813119888305664, 1.574831485748291, 1.1862447261810303, 0.9605906009674072, 0.7957698702812195, 0.6610216498374939, 0.558089554309845, 0.4661703109741211, 0.39940011501312256, 0.33845624327659607, 0.29279452562332153, 0.257190078496933, 0.22616195678710938, 0.2071038782596588, 0.18381644785404205, 0.17547017335891724, 0.16374319791793823, 0.145280659198761, 0.14410820603370667, 0.130694180727005]\n",
            "validation:  [1.8807401657104492, 1.3854519128799438, 1.1868066787719727, 1.0733805894851685, 0.993753969669342, 0.9871001243591309, 0.9130432605743408, 0.9103600978851318, 0.8945262432098389, 0.8779093027114868, 0.870713472366333, 0.8687850832939148, 0.8930960893630981, 0.8985503911972046, 0.9099599719047546, 0.9111819863319397, 0.9125021696090698, 0.9267779588699341, 0.9376162886619568, 0.9650884866714478]\n"
          ]
        },
        {
          "output_type": "display_data",
          "data": {
            "text/plain": [
              "<Figure size 640x480 with 1 Axes>"
            ],
            "image/png": "[encoded data removed]"
          },
          "metadata": {}
        }
      ]
    },
    {
      "cell_type": "code",
      "source": [
        "training_acc = history_dict[\"accuracy\"]\n",
        "validation_acc = history_dict[\"val_accuracy\"]\n",
        "plot_training_validation_results(training_acc, validation_acc,\n",
        "                                 \"Training and validation accuracy\",\n",
        "                                 \"Accuracy\")"
      ],
      "metadata": {
        "id": "Dni-fsHghGf4",
        "colab": {
          "base_uri": "https://localhost:8080/",
          "height": 504
        },
        "outputId": "c2c5a839-d1b3-41ad-ce1d-d99125bd9c33"
      },
      "execution_count": 15,
      "outputs": [
        {
          "output_type": "stream",
          "name": "stdout",
          "text": [
            "training:  [0.47469305992126465, 0.6812828779220581, 0.741418182849884, 0.7950388193130493, 0.8252317905426025, 0.8574292063713074, 0.8821097612380981, 0.9002756476402283, 0.911676287651062, 0.9259583950042725, 0.936356782913208, 0.9423703551292419, 0.946128785610199, 0.9495114088058472, 0.9528940320014954, 0.9517664909362793, 0.9532698392868042, 0.9561513662338257, 0.9556502103805542, 0.9571536183357239]\n",
            "validation:  [0.6190000176429749, 0.6970000267028809, 0.746999979019165, 0.7689999938011169, 0.7879999876022339, 0.7860000133514404, 0.8100000023841858, 0.800000011920929, 0.8019999861717224, 0.8100000023841858, 0.8140000104904175, 0.8190000057220459, 0.8140000104904175, 0.8180000185966492, 0.8040000200271606, 0.8130000233650208, 0.8169999718666077, 0.8140000104904175, 0.8009999990463257, 0.8130000233650208]\n"
          ]
        },
        {
          "output_type": "display_data",
          "data": {
            "text/plain": [
              "<Figure size 640x480 with 1 Axes>"
            ],
            "image/png": "[encoded data removed]"
          },
          "metadata": {}
        }
      ]
    },
    {
      "cell_type": "markdown",
      "source": [
        "**Refine the model**"
      ],
      "metadata": {
        "id": "GavVBkAXd5-X"
      }
    },
    {
      "cell_type": "code",
      "source": [
        "# TODO: build DL NN model\n",
        "model = keras.Sequential(\n",
        "    [\n",
        "        # TODO\n",
        "        layers.Dense(64, activation=\"relu\", input_shape=(10000,)),\n",
        "        layers.Dense(64, activation=\"relu\"),\n",
        "        layers.Dense(46, activation=\"softmax\")\n",
        "    ]\n",
        ")\n",
        "\n",
        "# TODO: fill in the information for compiling the model\n",
        "model.compile(\n",
        "    # TODO\n",
        "    optimizer=\"rmsprop\",\n",
        "    loss=\"categorical_crossentropy\",\n",
        "    metrics=[\"accuracy\"]\n",
        ")\n",
        "\n",
        "# TODO: train the model using the best epoch\n",
        "model.fit(\n",
        "    # TODO\n",
        "    x_train,\n",
        "    y_train,\n",
        "    epochs=12,\n",
        "    batch_size=512,\n",
        "    validation_data=(x_val, y_val)\n",
        ")\n"
      ],
      "metadata": {
        "id": "oUP8Gz8md-wC",
        "colab": {
          "base_uri": "https://localhost:8080/"
        },
        "outputId": "478d7da9-1eac-4750-b89b-df085fefc450"
      },
      "execution_count": 16,
      "outputs": [
        {
          "output_type": "stream",
          "name": "stderr",
          "text": [
            "/usr/local/lib/python3.12/dist-packages/keras/src/layers/core/dense.py:93: UserWarning: Do not pass an `input_shape`/`input_dim` argument to a layer. When using Sequential models, prefer using an `Input(shape)` object as the first layer in the model instead.\n",
            "  super().__init__(activity_regularizer=activity_regularizer, **kwargs)\n"
          ]
        },
        {
          "output_type": "stream",
          "name": "stdout",
          "text": [
            "Epoch 1/12\n",
            "\u001b[1m18/18\u001b[0m \u001b[32m━━━━━━━━━━━━━━━━━━━━\u001b[0m\u001b[37m\u001b[0m \u001b[1m3s\u001b[0m 115ms/step - accuracy: 0.3546 - loss: 3.1195 - val_accuracy: 0.6200 - val_loss: 1.7104\n",
            "Epoch 2/12\n",
            "\u001b[1m18/18\u001b[0m \u001b[32m━━━━━━━━━━━━━━━━━━━━\u001b[0m\u001b[37m\u001b[0m \u001b[1m0s\u001b[0m 17ms/step - accuracy: 0.6661 - loss: 1.5594 - val_accuracy: 0.7350 - val_loss: 1.1973\n",
            "Epoch 3/12\n",
            "\u001b[1m18/18\u001b[0m \u001b[32m━━━━━━━━━━━━━━━━━━━━\u001b[0m\u001b[37m\u001b[0m \u001b[1m0s\u001b[0m 17ms/step - accuracy: 0.7412 - loss: 1.1662 - val_accuracy: 0.7930 - val_loss: 0.9379\n",
            "Epoch 4/12\n",
            "\u001b[1m18/18\u001b[0m \u001b[32m━━━━━━━━━━━━━━━━━━━━\u001b[0m\u001b[37m\u001b[0m \u001b[1m1s\u001b[0m 16ms/step - accuracy: 0.7915 - loss: 0.9618 - val_accuracy: 0.8480 - val_loss: 0.7582\n",
            "Epoch 5/12\n",
            "\u001b[1m18/18\u001b[0m \u001b[32m━━━━━━━━━━━━━━━━━━━━\u001b[0m\u001b[37m\u001b[0m \u001b[1m0s\u001b[0m 17ms/step - accuracy: 0.8354 - loss: 0.7757 - val_accuracy: 0.8770 - val_loss: 0.6055\n",
            "Epoch 6/12\n",
            "\u001b[1m18/18\u001b[0m \u001b[32m━━━━━━━━━━━━━━━━━━━━\u001b[0m\u001b[37m\u001b[0m \u001b[1m0s\u001b[0m 19ms/step - accuracy: 0.8675 - loss: 0.6283 - val_accuracy: 0.9030 - val_loss: 0.5125\n",
            "Epoch 7/12\n",
            "\u001b[1m18/18\u001b[0m \u001b[32m━━━━━━━━━━━━━━━━━━━━\u001b[0m\u001b[37m\u001b[0m \u001b[1m1s\u001b[0m 23ms/step - accuracy: 0.8883 - loss: 0.5452 - val_accuracy: 0.9260 - val_loss: 0.4139\n",
            "Epoch 8/12\n",
            "\u001b[1m18/18\u001b[0m \u001b[32m━━━━━━━━━━━━━━━━━━━━\u001b[0m\u001b[37m\u001b[0m \u001b[1m0s\u001b[0m 24ms/step - accuracy: 0.9065 - loss: 0.4485 - val_accuracy: 0.9330 - val_loss: 0.3458\n",
            "Epoch 9/12\n",
            "\u001b[1m18/18\u001b[0m \u001b[32m━━━━━━━━━━━━━━━━━━━━\u001b[0m\u001b[37m\u001b[0m \u001b[1m0s\u001b[0m 22ms/step - accuracy: 0.9264 - loss: 0.3641 - val_accuracy: 0.9410 - val_loss: 0.2812\n",
            "Epoch 10/12\n",
            "\u001b[1m18/18\u001b[0m \u001b[32m━━━━━━━━━━━━━━━━━━━━\u001b[0m\u001b[37m\u001b[0m \u001b[1m0s\u001b[0m 17ms/step - accuracy: 0.9355 - loss: 0.3076 - val_accuracy: 0.9540 - val_loss: 0.2482\n",
            "Epoch 11/12\n",
            "\u001b[1m18/18\u001b[0m \u001b[32m━━━━━━━━━━━━━━━━━━━━\u001b[0m\u001b[37m\u001b[0m \u001b[1m0s\u001b[0m 16ms/step - accuracy: 0.9422 - loss: 0.2762 - val_accuracy: 0.9610 - val_loss: 0.2133\n",
            "Epoch 12/12\n",
            "\u001b[1m18/18\u001b[0m \u001b[32m━━━━━━━━━━━━━━━━━━━━\u001b[0m\u001b[37m\u001b[0m \u001b[1m0s\u001b[0m 17ms/step - accuracy: 0.9482 - loss: 0.2316 - val_accuracy: 0.9590 - val_loss: 0.1942\n"
          ]
        },
        {
          "output_type": "execute_result",
          "data": {
            "text/plain": [
              "<keras.src.callbacks.history.History at 0x79d380943650>"
            ]
          },
          "metadata": {},
          "execution_count": 16
        }
      ]
    },
    {
      "cell_type": "markdown",
      "source": [
        "#Predict new data"
      ],
      "metadata": {
        "id": "0nDALc-8Wz9w"
      }
    },
    {
      "cell_type": "code",
      "source": [
        "model.predict(x_test)"
      ],
      "metadata": {
        "id": "uy0V5X05W3RA",
        "colab": {
          "base_uri": "https://localhost:8080/"
        },
        "outputId": "02453118-7cbd-4199-a541-094c9591273f"
      },
      "execution_count": 17,
      "outputs": [
        {
          "output_type": "stream",
          "name": "stdout",
          "text": [
            "\u001b[1m71/71\u001b[0m \u001b[32m━━━━━━━━━━━━━━━━━━━━\u001b[0m\u001b[37m\u001b[0m \u001b[1m1s\u001b[0m 7ms/step\n"
          ]
        },
        {
          "output_type": "execute_result",
          "data": {
            "text/plain": [
              "array([[2.6461721e-04, 5.0267532e-05, 1.3939320e-04, ..., 3.3025429e-04,\n",
              "        1.3707934e-06, 6.4849581e-07],\n",
              "       [2.5809911e-04, 6.6155749e-03, 1.6920765e-05, ..., 7.5754324e-05,\n",
              "        1.5754669e-04, 1.0894327e-02],\n",
              "       [4.6072430e-03, 9.1001981e-01, 1.6431604e-03, ..., 1.7760150e-04,\n",
              "        1.8495410e-04, 6.2366558e-04],\n",
              "       ...,\n",
              "       [4.9254417e-05, 1.0119316e-03, 5.4469619e-05, ..., 1.5939919e-04,\n",
              "        1.0958506e-05, 3.4616903e-06],\n",
              "       [7.1205092e-03, 7.9597361e-02, 7.5029833e-03, ..., 2.9422103e-03,\n",
              "        1.7620192e-04, 2.9583447e-04],\n",
              "       [1.8143670e-05, 1.3982238e-01, 1.4341141e-03, ..., 1.0016375e-04,\n",
              "        1.0721302e-03, 1.9032480e-04]], dtype=float32)"
            ]
          },
          "metadata": {},
          "execution_count": 17
        }
      ]
    },
    {
      "cell_type": "code",
      "source": [
        "results = model.evaluate(x_test, y_test)\n",
        "print(results)"
      ],
      "metadata": {
        "id": "MIBTSOE4kLbW",
        "colab": {
          "base_uri": "https://localhost:8080/"
        },
        "outputId": "3624e12c-0807-4a07-bcac-0d5610a552a4"
      },
      "execution_count": 18,
      "outputs": [
        {
          "output_type": "stream",
          "name": "stdout",
          "text": [
            "\u001b[1m71/71\u001b[0m \u001b[32m━━━━━━━━━━━━━━━━━━━━\u001b[0m\u001b[37m\u001b[0m \u001b[1m1s\u001b[0m 6ms/step - accuracy: 0.8159 - loss: 0.8848\n",
            "[0.9157588481903076, 0.8040961623191833]\n"
          ]
        }
      ]
    },
    {
      "cell_type": "markdown",
      "source": [
        "#Other experiments"
      ],
      "metadata": {
        "id": "arGEf-lCv7yr"
      }
    },
    {
      "cell_type": "markdown",
      "source": [
        "##Consider the baseline"
      ],
      "metadata": {
        "id": "4GaksPMq2fKG"
      }
    },
    {
      "cell_type": "code",
      "source": [
        "import copy\n",
        "\n",
        "test_labels_copy = copy.copy(test_labels)\n",
        "np.random.shuffle(test_labels_copy)\n",
        "hits_array = np.array(test_labels) == np.array(test_labels_copy)\n",
        "hits_array.mean()"
      ],
      "metadata": {
        "id": "8QQj3bSDwFzJ",
        "colab": {
          "base_uri": "https://localhost:8080/"
        },
        "outputId": "49afc84b-1170-44f0-833e-77b30add6f5d"
      },
      "execution_count": 19,
      "outputs": [
        {
          "output_type": "execute_result",
          "data": {
            "text/plain": [
              "np.float64(0.18967052537845058)"
            ]
          },
          "metadata": {},
          "execution_count": 19
        }
      ]
    },
    {
      "cell_type": "code",
      "source": [
        "results = np.zeros(46)\n",
        "for label in test_labels:\n",
        "  results[label] += 1\n",
        "print(results)\n",
        "print(max(results))\n",
        "print(max(results) / sum(results))"
      ],
      "metadata": {
        "id": "qjUwtXj7wbRU",
        "colab": {
          "base_uri": "https://localhost:8080/"
        },
        "outputId": "a2479e17-890b-4fd4-f3f1-36ab81812d19"
      },
      "execution_count": 20,
      "outputs": [
        {
          "output_type": "stream",
          "name": "stdout",
          "text": [
            "[ 12. 105.  20. 813. 474.   5.  14.   3.  38.  25.  30.  83.  13.  37.\n",
            "   2.   9.  99.  12.  20. 133.  70.  27.   7.  12.  19.  31.   8.   4.\n",
            "  10.   4.  12.  13.  10.   5.   7.   6.  11.   2.   3.   5.  10.   8.\n",
            "   3.   6.   5.   1.]\n",
            "813.0\n",
            "0.3619768477292965\n"
          ]
        }
      ]
    },
    {
      "cell_type": "code",
      "source": [
        "results = np.zeros(46)\n",
        "for label in train_labels:\n",
        "  results[label] += 1\n",
        "print(results)\n",
        "print(max(results))\n",
        "print(max(results) / sum(results))"
      ],
      "metadata": {
        "id": "14CmaApMxWeb",
        "colab": {
          "base_uri": "https://localhost:8080/"
        },
        "outputId": "808c5567-c692-496e-d7bc-3f9be1b33c4a"
      },
      "execution_count": 21,
      "outputs": [
        {
          "output_type": "stream",
          "name": "stdout",
          "text": [
            "[  55.  432.   74. 3159. 1949.   17.   48.   16.  139.  101.  124.  390.\n",
            "   49.  172.   26.   20.  444.   39.   66.  549.  269.  100.   15.   41.\n",
            "   62.   92.   24.   15.   48.   19.   45.   39.   32.   11.   50.   10.\n",
            "   49.   19.   19.   24.   36.   30.   13.   21.   12.   18.]\n",
            "3159.0\n",
            "0.3517034068136273\n"
          ]
        }
      ]
    },
    {
      "cell_type": "code",
      "source": [],
      "metadata": {
        "id": "v6OJeNGMR4bG"
      },
      "execution_count": null,
      "outputs": []
    }
  ]
}